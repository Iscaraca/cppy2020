{
  "nbformat": 4,
  "nbformat_minor": 0,
  "metadata": {
    "colab": {
      "name": "2020_Python_Programming_Practical_2.ipynb",
      "provenance": [],
      "collapsed_sections": [],
      "include_colab_link": true
    },
    "kernelspec": {
      "name": "python3",
      "display_name": "Python 3"
    }
  },
  "cells": [
    {
      "cell_type": "markdown",
      "metadata": {
        "id": "view-in-github",
        "colab_type": "text"
      },
      "source": [
        "<a href=\"https://colab.research.google.com/github/Iscaraca/cppy2020/blob/master/2020_Python_Programming_Practical_2.ipynb\" target=\"_parent\"><img src=\"https://colab.research.google.com/assets/colab-badge.svg\" alt=\"Open In Colab\"/></a>"
      ]
    },
    {
      "cell_type": "markdown",
      "metadata": {
        "id": "jp3BkDml8xiR",
        "colab_type": "text"
      },
      "source": [
        "# **2020 Python Programming Practical 2**\n",
        "\n",
        "If you do not have one already, create a [GitHub](https://github.com) account using your DHS Mail.\n",
        "\n",
        "Create a public repository 2020python\n",
        "\n",
        "File --> Save a copy in GitHub under your 2020python repository\n",
        "\n",
        "Also share this colab file with edit access with computing@dhs.sg\n",
        "\n"
      ]
    },
    {
      "cell_type": "markdown",
      "metadata": {
        "id": "-U8w0oQW9P_b",
        "colab_type": "text"
      },
      "source": [
        "**Q1. (Check if number is odd or even)**\n",
        "\n",
        "Write a program that reads an integer and checks whether it is odd or even. \n",
        "\n",
        "Sample interaction:\n",
        "```\n",
        "Enter number: 25\n",
        "25 is odd\n",
        "\n",
        "Enter number: 8\n",
        "8 is even\n",
        "\n",
        "```"
      ]
    },
    {
      "cell_type": "code",
      "metadata": {
        "id": "D0uTR7B-8qbF",
        "colab_type": "code",
        "colab": {}
      },
      "source": [
        "def checkOddOrEven(n):\n",
        "    if n % 2 == 0:\n",
        "        return \"Even\"\n",
        "    else:\n",
        "        return \"Odd\""
      ],
      "execution_count": 0,
      "outputs": []
    },
    {
      "cell_type": "code",
      "metadata": {
        "id": "6SCbl7m1n8Ue",
        "colab_type": "code",
        "outputId": "9ac01734-baf0-432e-ff2e-9e3c272106e1",
        "colab": {
          "base_uri": "https://localhost:8080/",
          "height": 50
        }
      },
      "source": [
        "print(checkOddOrEven(4))\n",
        "print(checkOddOrEven(5))"
      ],
      "execution_count": 0,
      "outputs": [
        {
          "output_type": "stream",
          "text": [
            "Even\n",
            "Odd\n"
          ],
          "name": "stdout"
        }
      ]
    },
    {
      "cell_type": "markdown",
      "metadata": {
        "id": "7Ui5CuS_9Za1",
        "colab_type": "text"
      },
      "source": [
        "**Q2. (Validate triangles and compute perimeter)**\n",
        "\n",
        "Write a program that reads three edges for a triangle and determines whether the input is valid. The input is valid if the sum of any two edges is greater than the third edge. The program will compute the perimeter of the triangle if the input is valid. Otherwise, display that the input is invalid. \n",
        "\n",
        "Sample interaction:\n",
        "```\n",
        "Enter side 1: 2\n",
        "Enter side 2: 2\n",
        "Enter side 3: 1\n",
        "Perimeter = 5\n",
        "\n",
        "Enter side 1: 1\n",
        "Enter side 2: 2\n",
        "Enter side 3: 1\n",
        "Invalid triangle!\n",
        "\n",
        "```\n",
        "\n",
        "\n"
      ]
    },
    {
      "cell_type": "code",
      "metadata": {
        "id": "CfkRAAWV9cXS",
        "colab_type": "code",
        "colab": {}
      },
      "source": [
        "def checkTriangle(a, b, c):  \n",
        "      \n",
        "    if (a + b > c) and (a + c > b) and (b + c > a) : \n",
        "        return f\"Perimeter = {a + b + c}\"\n",
        "    else: \n",
        "        return \"Invalid triangle!\" "
      ],
      "execution_count": 0,
      "outputs": []
    },
    {
      "cell_type": "code",
      "metadata": {
        "id": "udEEnNoEoDPB",
        "colab_type": "code",
        "outputId": "1accab08-3134-48d4-efb8-ff93f9b4f21d",
        "colab": {
          "base_uri": "https://localhost:8080/",
          "height": 50
        }
      },
      "source": [
        "print(checkTriangle(2, 2, 1))\n",
        "print(checkTriangle(1, 2, 1))"
      ],
      "execution_count": 0,
      "outputs": [
        {
          "output_type": "stream",
          "text": [
            "Perimeter = 5\n",
            "Invalid triangle!\n"
          ],
          "name": "stdout"
        }
      ]
    },
    {
      "cell_type": "markdown",
      "metadata": {
        "id": "aVhHiT8w9c7d",
        "colab_type": "text"
      },
      "source": [
        "**Q3. (Determine grade)**\n",
        "\n",
        "Write a program that prompts the user to enter a score between 0 and 100 inclusive and output the corresponding grade as well as a Pass/Fail status. Output an error message if the entered score in not within the valid range. The grading system is as follows (S and U are not passes):\n",
        "\n",
        "A: 70 - 100  \n",
        "B: 60 - 69  \n",
        "C: 55 - 59  \n",
        "D: 50 - 54  \n",
        "E: 45 - 49  \n",
        "S: 35 - 44  \n",
        "U: 0 - 34\n",
        "\n",
        "Sample interaction:\n",
        "```\n",
        "Enter score: 73\n",
        "A\n",
        "Pass\n",
        "\n",
        "Enter score: 37\n",
        "S\n",
        "Fail\n",
        "\n",
        "Enter Score: -1\n",
        "Invalid! Score must be within 0 - 100.\n",
        "\n",
        "```"
      ]
    },
    {
      "cell_type": "code",
      "metadata": {
        "id": "PwRmweEa9fny",
        "colab_type": "code",
        "colab": {}
      },
      "source": [
        "def autoGrader(grade):\n",
        "    if grade < 0:\n",
        "        return \"Score has to be between 0 - 100\"\n",
        "\n",
        "    elif grade < 35:\n",
        "        return \"U :(\"\n",
        "\n",
        "    elif grade < 45:\n",
        "        return \"S :(\"\n",
        "\n",
        "    elif grade < 50:\n",
        "        return \"E :|\"\n",
        "\n",
        "    elif grade < 55:\n",
        "        return \"D :|\"\n",
        "\n",
        "    elif grade < 60:\n",
        "        return \"C :|\"\n",
        "\n",
        "    elif grade < 70:\n",
        "        return \"B :)\"\n",
        "\n",
        "    elif grade <= 100:\n",
        "        return \"A :)\"\n",
        "\n",
        "    else:\n",
        "        return \"Score has to be between 0 - 100\""
      ],
      "execution_count": 0,
      "outputs": []
    },
    {
      "cell_type": "code",
      "metadata": {
        "id": "n6KtV-3loMZa",
        "colab_type": "code",
        "outputId": "1ec3a9e1-26b3-42ae-e600-57f4998ac2d0",
        "colab": {
          "base_uri": "https://localhost:8080/",
          "height": 84
        }
      },
      "source": [
        "print(autoGrader(-1))\n",
        "print(autoGrader(70))\n",
        "print(autoGrader(55))\n",
        "print(autoGrader(101))"
      ],
      "execution_count": 0,
      "outputs": [
        {
          "output_type": "stream",
          "text": [
            "Score has to be between 0 - 100\n",
            "A :)\n",
            "C :|\n",
            "Score has to be between 0 - 100\n"
          ],
          "name": "stdout"
        }
      ]
    },
    {
      "cell_type": "markdown",
      "metadata": {
        "id": "GwAIqQNY9gFd",
        "colab_type": "text"
      },
      "source": [
        "**Q4. (Determine leap year)**\n",
        "\n",
        "Write a program that prompts the user to enter a year and determines whether it is a leap year. A year is a leap year if it is divisible by 4 but not 100, or is divisible by 400. \n",
        "\n",
        "Sample interaction:\n",
        "```\n",
        "Enter year: 2020\n",
        "Leap\n",
        "\n",
        "Enter year: 2019\n",
        "Non-Leap\n",
        "```"
      ]
    },
    {
      "cell_type": "code",
      "metadata": {
        "id": "aOozTwoR9j9B",
        "colab_type": "code",
        "colab": {}
      },
      "source": [
        "def leapYearChecker(year):\n",
        "    if (year % 4 == 0 and year % 100 != 0) or (year % 400 == 0):\n",
        "        return True # Leap, returns boolean value to save time on the next question\n",
        "    else:\n",
        "        return False # Non Leap"
      ],
      "execution_count": 0,
      "outputs": []
    },
    {
      "cell_type": "code",
      "metadata": {
        "id": "81TFSdOroRwa",
        "colab_type": "code",
        "outputId": "7907b29c-0de5-49bc-c951-e307f3f0d8df",
        "colab": {
          "base_uri": "https://localhost:8080/",
          "height": 50
        }
      },
      "source": [
        "print(leapYearChecker(2020))\n",
        "print(leapYearChecker(2019))"
      ],
      "execution_count": 0,
      "outputs": [
        {
          "output_type": "stream",
          "text": [
            "True\n",
            "False\n"
          ],
          "name": "stdout"
        }
      ]
    },
    {
      "cell_type": "markdown",
      "metadata": {
        "id": "lE0ScX9e9kcg",
        "colab_type": "text"
      },
      "source": [
        "**Q5. (Find number of days in a month)**\n",
        "\n",
        "Write a program that prompts the user to enter the month and year, and displays the number of days in the month. Sample interaction:\n",
        "```\n",
        "Enter month: 2\n",
        "Enter year: 2020\n",
        "February 2020 has 29 days.\n",
        "\n",
        "Enter month: 3\n",
        "Enter year: 2021\n",
        "March 2021 has 31 days.\n",
        "\n",
        "```"
      ]
    },
    {
      "cell_type": "code",
      "metadata": {
        "id": "sE_bxwDs9mf6",
        "colab_type": "code",
        "colab": {}
      },
      "source": [
        "def howManyDays(month, year):\n",
        "    months = [\"Jan\", \"Feb\", \"Mar\", \"Apr\", \"May\", \"Jun\", \"Jul\", \"Aug\", \"Sep\", \"Oct\", \"Nov\", \"Dec\"]\n",
        "    if month == 2:\n",
        "        if leapYearChecker(year):\n",
        "            days = \"29 days\"\n",
        "        else:\n",
        "            days = \"28 days\"\n",
        "    elif month % 2 == 0 :\n",
        "        if month > 6:\n",
        "            days = \"31 days\"\n",
        "        else:\n",
        "            days = \"30 days\"\n",
        "    else:\n",
        "        if month < 7:\n",
        "            days = \"31 days\"\n",
        "        else:\n",
        "            days = \"30 days\"\n",
        "    return f\"{months[month - 1]} {year} had \" + days"
      ],
      "execution_count": 0,
      "outputs": []
    },
    {
      "cell_type": "code",
      "metadata": {
        "id": "QcHSC3ELoVyI",
        "colab_type": "code",
        "outputId": "6e248b79-31ac-48af-9a2f-9c9576c2f32f",
        "colab": {
          "base_uri": "https://localhost:8080/",
          "height": 67
        }
      },
      "source": [
        "print(howManyDays(2,2020))\n",
        "print(howManyDays(3,2021))\n",
        "print(howManyDays(8,2020))"
      ],
      "execution_count": 0,
      "outputs": [
        {
          "output_type": "stream",
          "text": [
            "Feb 2020 had 29 days\n",
            "Mar 2021 had 31 days\n",
            "Aug 2020 had 31 days\n"
          ],
          "name": "stdout"
        }
      ]
    },
    {
      "cell_type": "markdown",
      "metadata": {
        "id": "KSviQY0T9m7Q",
        "colab_type": "text"
      },
      "source": [
        "**Q6. (Convert from kilograms to pounds)**\n",
        "\n",
        "Write a program that displays the following table (1 kilogram = 2.2 pounds):\n",
        "```\n",
        "Kilograms Pounds\n",
        "1         2.2\n",
        "2         4.4\n",
        "3         6.6\n",
        "...\n",
        "9         19.8\n",
        "10        22.0\n",
        "```"
      ]
    },
    {
      "cell_type": "code",
      "metadata": {
        "id": "YbH9Pbul9rK-",
        "colab_type": "code",
        "outputId": "9f8d0a23-4b95-4a37-df81-a06f33b32e0b",
        "colab": {
          "base_uri": "https://localhost:8080/",
          "height": 202
        }
      },
      "source": [
        "print(\"Kilograms        Pounds\")\n",
        "for i in range(1, 11):\n",
        "    # \" \" * (17-len(str(i))) maintains the number of spaces so that each element in column Pounds is in line even though the number of digits in Kilogram varies\n",
        "    print(\"{}{}{:.1f}\".format(i, \" \" * (17-len(str(i))), i * 2.2))"
      ],
      "execution_count": 0,
      "outputs": [
        {
          "output_type": "stream",
          "text": [
            "Kilograms        Pounds\n",
            "1                2.2\n",
            "2                4.4\n",
            "3                6.6\n",
            "4                8.8\n",
            "5                11.0\n",
            "6                13.2\n",
            "7                15.4\n",
            "8                17.6\n",
            "9                19.8\n",
            "10               22.0\n"
          ],
          "name": "stdout"
        }
      ]
    },
    {
      "cell_type": "markdown",
      "metadata": {
        "id": "V9Z95nlg97e4",
        "colab_type": "text"
      },
      "source": [
        "**Q7. (Convert from miles to kilometres)**\n",
        "\n",
        "Write a program that displays the following two tables side-by-side (1 mile = 1.609 kilometres):\n",
        "```\n",
        "Miles\tKilometers\tKilometres\tMiles\n",
        "1    \t1.609     \t20        \t12.430\n",
        "2    \t3.218     \t25        \t15.538\n",
        "\n",
        "...\n",
        "9    \t14.481    \t60        \t37.290\n",
        "10   \t16.090    \t65        \t40.398\n",
        "```\n",
        "\n"
      ]
    },
    {
      "cell_type": "code",
      "metadata": {
        "id": "1AZvvAW499PK",
        "colab_type": "code",
        "outputId": "67fb6f45-d05b-4ee1-bf02-55c1c0629b82",
        "colab": {
          "base_uri": "https://localhost:8080/",
          "height": 1000
        }
      },
      "source": [
        "print(\"Miles        Kilometres\")\n",
        "for i in range(1, 66):\n",
        "    # \" \" * (13-len(str(i))) maintains the number of spaces so that each element in column Miles is in line even though the number of digits in Kilometres varies\n",
        "    print(\"{}{}{:.3f}\".format(i, \" \" * (13-len(str(i))), i * 1.609))"
      ],
      "execution_count": 0,
      "outputs": [
        {
          "output_type": "stream",
          "text": [
            "Miles        Kilometres\n",
            "1            1.609\n",
            "2            3.218\n",
            "3            4.827\n",
            "4            6.436\n",
            "5            8.045\n",
            "6            9.654\n",
            "7            11.263\n",
            "8            12.872\n",
            "9            14.481\n",
            "10           16.090\n",
            "11           17.699\n",
            "12           19.308\n",
            "13           20.917\n",
            "14           22.526\n",
            "15           24.135\n",
            "16           25.744\n",
            "17           27.353\n",
            "18           28.962\n",
            "19           30.571\n",
            "20           32.180\n",
            "21           33.789\n",
            "22           35.398\n",
            "23           37.007\n",
            "24           38.616\n",
            "25           40.225\n",
            "26           41.834\n",
            "27           43.443\n",
            "28           45.052\n",
            "29           46.661\n",
            "30           48.270\n",
            "31           49.879\n",
            "32           51.488\n",
            "33           53.097\n",
            "34           54.706\n",
            "35           56.315\n",
            "36           57.924\n",
            "37           59.533\n",
            "38           61.142\n",
            "39           62.751\n",
            "40           64.360\n",
            "41           65.969\n",
            "42           67.578\n",
            "43           69.187\n",
            "44           70.796\n",
            "45           72.405\n",
            "46           74.014\n",
            "47           75.623\n",
            "48           77.232\n",
            "49           78.841\n",
            "50           80.450\n",
            "51           82.059\n",
            "52           83.668\n",
            "53           85.277\n",
            "54           86.886\n",
            "55           88.495\n",
            "56           90.104\n",
            "57           91.713\n",
            "58           93.322\n",
            "59           94.931\n",
            "60           96.540\n",
            "61           98.149\n",
            "62           99.758\n",
            "63           101.367\n",
            "64           102.976\n",
            "65           104.585\n"
          ],
          "name": "stdout"
        }
      ]
    },
    {
      "cell_type": "markdown",
      "metadata": {
        "colab_type": "text",
        "id": "79toYNfyD9XP"
      },
      "source": [
        "**Q8. (Find two highest scores)**\n",
        "\n",
        "Write a program that prompts the user to enter the number of students and each student's name and score, and finally displays the student with the highest score and the student with the second-highest score. Enter up to 5 student records.\n",
        "\n"
      ]
    },
    {
      "cell_type": "code",
      "metadata": {
        "id": "Se5J95IjC9bT",
        "colab_type": "code",
        "outputId": "e06d898a-0856-40dc-e19d-e54c6546afc7",
        "colab": {
          "base_uri": "https://localhost:8080/",
          "height": 286
        }
      },
      "source": [
        "'''\n",
        "I used OOP for this question, where every student is a class object stored in an array called classSize. This way, if the teacher wants to do \n",
        "something else with the student's info or add more info to the students and rank them using the new info, the teacher can easily implement. \n",
        "This allows any number of student records, and outputs every student's name in order of score.\n",
        "\n",
        "P.S I don't normally comment on my code but I shall develop a habit from now because it's graded somehow.\n",
        "'''\n",
        "\n",
        "class Student:\n",
        "    def __init__(self, name, score):\n",
        "        self.name = name\n",
        "        self.score = score\n",
        "\n",
        "classSize = int(input(\"How many students: \"))\n",
        "\n",
        "# Initialising list of class objects with placeholder values \"\" for name and 0 for score\n",
        "studentList = [Student(\"\", 0) for i in range(classSize)]\n",
        "\n",
        "# Changing class object values in studentList to reflect actual name and score\n",
        "for Student in studentList:\n",
        "    Student.name = input(\"Enter student name: \")\n",
        "    Student.score = int(input(f\"Enter {Student.name}'s score: \"))\n",
        "\n",
        "# Sorts list by score in descending order, aka highest score goes first\n",
        "studentList.sort(key=lambda x: x.score, reverse=True)\n",
        "\n",
        "# Just prints every name in the list\n",
        "for student in studentList:\n",
        "    print(student.name)"
      ],
      "execution_count": 0,
      "outputs": [
        {
          "output_type": "stream",
          "text": [
            "How many students: 5\n",
            "Enter student name: Alice\n",
            "Enter Alice's score: 65\n",
            "Enter student name: Isaac\n",
            "Enter Isaac's score: 100\n",
            "Enter student name: Bob\n",
            "Enter Bob's score: 45\n",
            "Enter student name: Cathy\n",
            "Enter Cathy's score: 98\n",
            "Enter student name: Gi Soong Chee\n",
            "Enter Gi Soong Chee's score: 189369126396129836\n",
            "Gi Soong Chee\n",
            "Isaac\n",
            "Cathy\n",
            "Alice\n",
            "Bob\n"
          ],
          "name": "stdout"
        }
      ]
    },
    {
      "cell_type": "markdown",
      "metadata": {
        "id": "seLRswd3ED9x",
        "colab_type": "text"
      },
      "source": [
        "**Q9. (Finding the smallest n such that n<sup>2</sup> > 12000)**\n",
        "\n",
        "Use a while loop to find the smallest integer n such that n<sup>2</sup> is greater than 12,000. "
      ]
    },
    {
      "cell_type": "code",
      "metadata": {
        "id": "n_1AS9EREHgQ",
        "colab_type": "code",
        "outputId": "57254ebe-e6d1-4dcd-f2f9-ae4ddac698c3",
        "colab": {
          "base_uri": "https://localhost:8080/",
          "height": 34
        }
      },
      "source": [
        "n = 0\n",
        "while (n*n) <= 12000:\n",
        "    n += 1\n",
        "print(n)"
      ],
      "execution_count": 0,
      "outputs": [
        {
          "output_type": "stream",
          "text": [
            "110\n"
          ],
          "name": "stdout"
        }
      ]
    },
    {
      "cell_type": "markdown",
      "metadata": {
        "id": "YHyv5TE6EH24",
        "colab_type": "text"
      },
      "source": [
        "**Q10. (Finding the largest n such that n<sup>3</sup> < 12000)** \n",
        "\n",
        "Use a while loop to find the largest integer n such that n<sup>3</sup> is less than 12,000."
      ]
    },
    {
      "cell_type": "code",
      "metadata": {
        "id": "B--GNWkcEKkR",
        "colab_type": "code",
        "outputId": "1e977262-be81-46e8-8ec0-8b969744d08c",
        "colab": {
          "base_uri": "https://localhost:8080/",
          "height": 34
        }
      },
      "source": [
        "n = 0\n",
        "while (pow(n, 3)) <= 12000:\n",
        "    n += 1\n",
        "print(n-1)"
      ],
      "execution_count": 0,
      "outputs": [
        {
          "output_type": "stream",
          "text": [
            "22\n"
          ],
          "name": "stdout"
        }
      ]
    },
    {
      "cell_type": "markdown",
      "metadata": {
        "id": "lr8Er0cXEKzY",
        "colab_type": "text"
      },
      "source": [
        "**Q11. (Computing the greatest common divisor)**\n",
        "\n",
        "A solution to find the greatest common divisor of two integers n1 and n2 is as follows:\n",
        "* First find d to be the minimum of n1 and n2\n",
        "* Then check whether d, d-1, … d-2, 2, or 1 is a divisor for both n1 and n2 in this order.\n",
        "* The first such common divisor is the greatest common divisor for n1 and n2. \n",
        "\n",
        "Write a program to implement this solution.  \n",
        "Sample interaction:\n",
        "```\n",
        "Enter n1: 12\n",
        "Enter n2: 18\n",
        "GCD: 6\n",
        "```"
      ]
    },
    {
      "cell_type": "code",
      "metadata": {
        "id": "T8iKWDpgEOSw",
        "colab_type": "code",
        "colab": {}
      },
      "source": [
        "# Would it be cheating if i just used gcd() lmao\n",
        "def calcGCD(x, y): \n",
        "  \n",
        "    if x > y: \n",
        "        small = y \n",
        "    else: \n",
        "        small = x \n",
        "    for i in range(1, small+1): \n",
        "        if((x % i == 0) and (y % i == 0)): \n",
        "            gcd = i \n",
        "              \n",
        "    return gcd\n",
        "\n",
        "# We can also use recursion, like this:\n",
        "def calcGCDRecursion(a,b): \n",
        "    if(b==0): \n",
        "        return a \n",
        "    else: \n",
        "        return calcGCDRecursion(b,a%b) \n",
        "\n",
        "# but recursion is very inefficient and the math library alr has gcd()"
      ],
      "execution_count": 0,
      "outputs": []
    },
    {
      "cell_type": "code",
      "metadata": {
        "id": "TgXl6VkNomAY",
        "colab_type": "code",
        "outputId": "c11cf4cf-eff5-40df-c2d6-55e8645e2ca6",
        "colab": {
          "base_uri": "https://localhost:8080/",
          "height": 67
        }
      },
      "source": [
        "print(calcGCD(12, 18))\n",
        "print(calcGCDRecursion(12, 18))\n",
        "from math import gcd\n",
        "print(gcd(12, 18))"
      ],
      "execution_count": 0,
      "outputs": [
        {
          "output_type": "stream",
          "text": [
            "6\n",
            "6\n",
            "6\n"
          ],
          "name": "stdout"
        }
      ]
    },
    {
      "cell_type": "markdown",
      "metadata": {
        "id": "-kojjY6zEOkn",
        "colab_type": "text"
      },
      "source": [
        "**Q12. (Find factors of a positive integer)**\n",
        "\n",
        "Write a program that reads a positive integer > 1 and displays all its factors.   \n",
        "Sample interaction:\n",
        "```\n",
        "Enter n: 120\n",
        "Factors: 2 2 2 3 5 \n",
        "```"
      ]
    },
    {
      "cell_type": "code",
      "metadata": {
        "id": "s3hoL9l5EPjU",
        "colab_type": "code",
        "colab": {}
      },
      "source": [
        "# Why are the factors of 120 in the sample just 2 2 2 3 5? If they're asking for\n",
        "# prime factors shouldn't it be just 2 3 5?\n",
        "\n",
        "def printFactors(n):\n",
        "    print(f\"The factors of {n} are: \")\n",
        "    for i in range(1, n + 1):\n",
        "        if n % i == 0:\n",
        "            print(i, end=\" \")"
      ],
      "execution_count": 0,
      "outputs": []
    },
    {
      "cell_type": "code",
      "metadata": {
        "id": "dmvMY6CVouOV",
        "colab_type": "code",
        "outputId": "d256beb6-8784-4874-a87d-630975edc182",
        "colab": {
          "base_uri": "https://localhost:8080/",
          "height": 50
        }
      },
      "source": [
        "printFactors(120)"
      ],
      "execution_count": 0,
      "outputs": [
        {
          "output_type": "stream",
          "text": [
            "The factors of 120 are: \n",
            "1 2 3 4 5 6 8 10 12 15 20 24 30 40 60 120 "
          ],
          "name": "stdout"
        }
      ]
    }
  ]
}