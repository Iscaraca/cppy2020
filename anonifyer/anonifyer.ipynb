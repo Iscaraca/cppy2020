{
 "cells": [
  {
   "cell_type": "code",
   "execution_count": 1,
   "metadata": {},
   "outputs": [],
   "source": [
    "import csv\n",
    "from random import randint\n",
    "\n",
    "words = open(\"words.txt\", \"r\")\n",
    "students = open(\"student.csv\", \"r\")\n",
    "out = open(\"out.csv\", \"w\")\n",
    "\n",
    "lines = words.readlines()\n",
    "\n",
    "readValues = csv.reader(students, delimiter=',')\n",
    "for row in readValues:\n",
    "    name = lines[randint(0, 466000)].rstrip() + lines[randint(0, 466000)].rstrip()\n",
    "    out.write(name + \",\" + row[1] + \"\\n\")"
   ]
  },
  {
   "cell_type": "code",
   "execution_count": null,
   "metadata": {},
   "outputs": [],
   "source": []
  }
 ],
 "metadata": {
  "kernelspec": {
   "display_name": "Python 3",
   "language": "python",
   "name": "python3"
  },
  "language_info": {
   "codemirror_mode": {
    "name": "ipython",
    "version": 3
   },
   "file_extension": ".py",
   "mimetype": "text/x-python",
   "name": "python",
   "nbconvert_exporter": "python",
   "pygments_lexer": "ipython3",
   "version": "3.7.7"
  }
 },
 "nbformat": 4,
 "nbformat_minor": 4
}
